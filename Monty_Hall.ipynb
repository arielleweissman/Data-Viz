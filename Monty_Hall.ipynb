{
 "cells": [
  {
   "cell_type": "code",
   "execution_count": 1,
   "metadata": {},
   "outputs": [],
   "source": [
    "import numpy as np\n",
    "import pandas as pd\n",
    "import matplotlib.pyplot as plt\n",
    "%matplotlib inline"
   ]
  },
  {
   "cell_type": "raw",
   "metadata": {},
   "source": [
    "# Let's say we chose Door 1. Let A be the choice of Door 1, and let B be a reveal of goat behind Door 2. The probability of a goat being behind door 2 if Door 1 is chosen is 1/2. \n",
    "# We want probability that a car is behind Door 1, given there is a goat behind Door 2.\n",
    "P(A) = 1/3\n",
    "P(B|A) = 1/2\n",
    "P(A~) = 2/3\n",
    "P(B|A~) = 1/2\n",
    "P(A|B) = P(B|A) * P(A) / [(P(B|A) * P(A) / P(A~) * P(B|A~)]\n",
    "P(A|B) = [(1/2) * (1/3)] / [(1/2) * (1/3) + (2/3) * (1/2)]\n",
    "P(A|B) = 1/3\n",
    "# Since the total of the Probability there is a car behind Door 1 and the probability a car is behind Door 2 must be equal to 1.\n",
    "# If the probability is 1/3 that a car is behind Door 1, then there's a 2/3 probability car is behind Door 2, which is better odds. You should choose to switch doors."
   ]
  }
 ],
 "metadata": {
  "kernelspec": {
   "display_name": "Python 3",
   "language": "python",
   "name": "python3"
  },
  "language_info": {
   "codemirror_mode": {
    "name": "ipython",
    "version": 3
   },
   "file_extension": ".py",
   "mimetype": "text/x-python",
   "name": "python",
   "nbconvert_exporter": "python",
   "pygments_lexer": "ipython3",
   "version": "3.6.3"
  }
 },
 "nbformat": 4,
 "nbformat_minor": 2
}
