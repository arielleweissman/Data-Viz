{
 "cells": [
  {
   "cell_type": "raw",
   "metadata": {},
   "source": [
    "# Drill 1\n",
    "# Data Source: Amsterdam availability data scraped from AirBnB on December 24th.\n",
    "# Question: What are the popular neighborhoods in Amsterdam?\n",
    "Change the date you are choosing the sampling period. December 24th is Christmas eve and the data can be skewed for the\n",
    "holiday time of year or reframe the question to focus on the holiday time frame."
   ]
  },
  {
   "cell_type": "raw",
   "metadata": {},
   "source": [
    "# Drill 2\n",
    "# Data Source: Mental health services use on September 12, 2001 in San Francisco, CA and New York City, NY. \n",
    "# Question: How do patterns of mental health service use vary between cities?\n",
    "This date is the day after 9/11 where Mental Health in New York City, NY will be skewed compared to San Francisco. Or, you can reframe the question about mental health service in the days following 9/11 in major US cities."
   ]
  },
  {
   "cell_type": "raw",
   "metadata": {},
   "source": [
    "# Drill 3\n",
    "# Data Source: Armenian Pub Survey.\n",
    "# Question: What are the most common reasons Armenians visit local pubs?\n",
    "Definitely reframe the question to not only ask about Armenians but college students as a whole, since Armenians are a bias."
   ]
  }
 ],
 "metadata": {
  "kernelspec": {
   "display_name": "Python 3",
   "language": "python",
   "name": "python3"
  },
  "language_info": {
   "codemirror_mode": {
    "name": "ipython",
    "version": 3
   },
   "file_extension": ".py",
   "mimetype": "text/x-python",
   "name": "python",
   "nbconvert_exporter": "python",
   "pygments_lexer": "ipython3",
   "version": "3.6.3"
  }
 },
 "nbformat": 4,
 "nbformat_minor": 2
}
